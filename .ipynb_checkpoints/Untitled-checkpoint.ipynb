{
 "cells": [
  {
   "cell_type": "code",
   "execution_count": 1,
   "metadata": {},
   "outputs": [],
   "source": [
    "import numpy as np\n",
    "import matplotlib.pyplot as plt\n",
    "from astropy.io import fits \n",
    "import sys, os\n",
    "from astroquery.mast import Tesscut\n",
    "from astropy.coordinates import SkyCoord\n",
    "from astropy import units as u\n",
    "from bls import BLS\n",
    "import eleanor"
   ]
  },
  {
   "cell_type": "code",
   "execution_count": 2,
   "metadata": {},
   "outputs": [
    {
     "name": "stdout",
     "output_type": "stream",
     "text": [
      "Found star in Sector(s) 1 2 3 4 5 6 7 8 10 11\n",
      "Downloading URL https://mast.stsci.edu/tesscut/api/v0.1/astrocut?ra=96.2604873144954&dec=-76.0909507899987&y=31&x=31&units=px&sector=1 to ./tesscut_20190620124245.zip ... [Done]\n",
      "Inflating...\n",
      "Downloading URL https://mast.stsci.edu/tesscut/api/v0.1/astrocut?ra=96.2604873144954&dec=-76.0909507899987&y=31&x=31&units=px&sector=2 to ./tesscut_20190620124253.zip ... [Done]\n",
      "Inflating...\n",
      "Downloading URL https://mast.stsci.edu/tesscut/api/v0.1/astrocut?ra=96.2604873144954&dec=-76.0909507899987&y=31&x=31&units=px&sector=3 to ./tesscut_20190620124304.zip ... [Done]\n",
      "Inflating...\n",
      "Downloading URL https://mast.stsci.edu/tesscut/api/v0.1/astrocut?ra=96.2604873144954&dec=-76.0909507899987&y=31&x=31&units=px&sector=4 to ./tesscut_20190620124314.zip ... [Done]\n",
      "Inflating...\n",
      "Downloading URL https://mast.stsci.edu/tesscut/api/v0.1/astrocut?ra=96.2604873144954&dec=-76.0909507899987&y=31&x=31&units=px&sector=5 to ./tesscut_20190620124324.zip ... [Done]\n",
      "Inflating...\n",
      "Downloading URL https://mast.stsci.edu/tesscut/api/v0.1/astrocut?ra=96.2604873144954&dec=-76.0909507899987&y=31&x=31&units=px&sector=6 to ./tesscut_20190620124335.zip ... [Done]\n",
      "Inflating...\n",
      "Downloading URL https://mast.stsci.edu/tesscut/api/v0.1/astrocut?ra=96.2604873144954&dec=-76.0909507899987&y=31&x=31&units=px&sector=7 to ./tesscut_20190620124343.zip ... [Done]\n",
      "Inflating...\n",
      "Downloading URL https://mast.stsci.edu/tesscut/api/v0.1/astrocut?ra=96.2604873144954&dec=-76.0909507899987&y=31&x=31&units=px&sector=8 to ./tesscut_20190620124351.zip ... [Done]\n",
      "Inflating...\n",
      "Downloading URL https://mast.stsci.edu/tesscut/api/v0.1/astrocut?ra=96.2604873144954&dec=-76.0909507899987&y=31&x=31&units=px&sector=10 to ./tesscut_20190620124359.zip ... [Done]\n",
      "Inflating...\n",
      "Downloading URL https://mast.stsci.edu/tesscut/api/v0.1/astrocut?ra=96.2604873144954&dec=-76.0909507899987&y=31&x=31&units=px&sector=11 to ./tesscut_20190620124406.zip ... [Done]\n",
      "Inflating...\n"
     ]
    }
   ],
   "source": [
    "stars = eleanor.multi_sectors(tic=141978095, tc=True, sectors='all')"
   ]
  },
  {
   "cell_type": "code",
   "execution_count": 3,
   "metadata": {},
   "outputs": [
    {
     "name": "stderr",
     "output_type": "stream",
     "text": [
      "/anaconda3/lib/python3.6/site-packages/h5py/__init__.py:36: FutureWarning: Conversion of the second argument of issubdtype from `float` to `np.floating` is deprecated. In future, it will be treated as `np.float64 == np.dtype(float).type`.\n",
      "  from ._conv import register_converters as _register_converters\n",
      "100%|██████████| 1282/1282 [00:31<00:00, 41.78it/s]\n"
     ]
    },
    {
     "ename": "ValueError",
     "evalue": "Illegal value: <Quantity 2>.",
     "output_type": "error",
     "traceback": [
      "\u001b[0;31m---------------------------------------------------------------------------\u001b[0m",
      "\u001b[0;31mValueError\u001b[0m                                Traceback (most recent call last)",
      "\u001b[0;32m<ipython-input-3-2c0f537c41f5>\u001b[0m in \u001b[0;36m<module>\u001b[0;34m()\u001b[0m\n\u001b[1;32m      7\u001b[0m     \u001b[0mtimes\u001b[0m\u001b[0;34m.\u001b[0m\u001b[0mappend\u001b[0m\u001b[0;34m(\u001b[0m\u001b[0mdata\u001b[0m\u001b[0;34m.\u001b[0m\u001b[0mtime\u001b[0m\u001b[0;34m[\u001b[0m\u001b[0mq\u001b[0m\u001b[0;34m]\u001b[0m\u001b[0;34m)\u001b[0m\u001b[0;34m\u001b[0m\u001b[0m\n\u001b[1;32m      8\u001b[0m     \u001b[0mpsf_fluxes\u001b[0m\u001b[0;34m.\u001b[0m\u001b[0mappend\u001b[0m\u001b[0;34m(\u001b[0m\u001b[0mdata\u001b[0m\u001b[0;34m.\u001b[0m\u001b[0mpsf_flux\u001b[0m\u001b[0;34m[\u001b[0m\u001b[0mq\u001b[0m\u001b[0;34m]\u001b[0m\u001b[0;34m)\u001b[0m\u001b[0;34m\u001b[0m\u001b[0m\n\u001b[0;32m----> 9\u001b[0;31m     \u001b[0mdata\u001b[0m\u001b[0;34m.\u001b[0m\u001b[0msave\u001b[0m\u001b[0;34m(\u001b[0m\u001b[0;34m)\u001b[0m\u001b[0;34m\u001b[0m\u001b[0m\n\u001b[0m",
      "\u001b[0;32m~/Documents/ELLIE/eleanor/targetdata.py\u001b[0m in \u001b[0;36msave\u001b[0;34m(self, output_fn, directory)\u001b[0m\n\u001b[1;32m   1007\u001b[0m         \"\"\"\n\u001b[1;32m   1008\u001b[0m \u001b[0;34m\u001b[0m\u001b[0m\n\u001b[0;32m-> 1009\u001b[0;31m         \u001b[0mself\u001b[0m\u001b[0;34m.\u001b[0m\u001b[0mset_header\u001b[0m\u001b[0;34m(\u001b[0m\u001b[0;34m)\u001b[0m\u001b[0;34m\u001b[0m\u001b[0m\n\u001b[0m\u001b[1;32m   1010\u001b[0m \u001b[0;34m\u001b[0m\u001b[0m\n\u001b[1;32m   1011\u001b[0m         \u001b[0;31m# if the user did not specify a directory, set it to default\u001b[0m\u001b[0;34m\u001b[0m\u001b[0;34m\u001b[0m\u001b[0m\n",
      "\u001b[0;32m~/Documents/ELLIE/eleanor/targetdata.py\u001b[0m in \u001b[0;36mset_header\u001b[0;34m(self)\u001b[0m\n\u001b[1;32m    965\u001b[0m                                      comment='Sector'))\n\u001b[1;32m    966\u001b[0m         self.header.append(fits.Card(keyword='CHIP', value=self.source_info.chip,\n\u001b[0;32m--> 967\u001b[0;31m                                      comment='CCD'))\n\u001b[0m\u001b[1;32m    968\u001b[0m         self.header.append(fits.Card(keyword='CHIPPOS1', value=self.source_info.position_on_chip[0],\n\u001b[1;32m    969\u001b[0m                                      comment='central x pixel of TPF in FFI chip'))\n",
      "\u001b[0;32m/anaconda3/lib/python3.6/site-packages/astropy/io/fits/card.py\u001b[0m in \u001b[0;36m__init__\u001b[0;34m(self, keyword, value, comment, **kwargs)\u001b[0m\n\u001b[1;32m    189\u001b[0m                 \u001b[0mself\u001b[0m\u001b[0;34m.\u001b[0m\u001b[0mkeyword\u001b[0m \u001b[0;34m=\u001b[0m \u001b[0mkeyword\u001b[0m\u001b[0;34m\u001b[0m\u001b[0m\n\u001b[1;32m    190\u001b[0m             \u001b[0;32mif\u001b[0m \u001b[0mvalue\u001b[0m \u001b[0;32mis\u001b[0m \u001b[0;32mnot\u001b[0m \u001b[0;32mNone\u001b[0m\u001b[0;34m:\u001b[0m\u001b[0;34m\u001b[0m\u001b[0m\n\u001b[0;32m--> 191\u001b[0;31m                 \u001b[0mself\u001b[0m\u001b[0;34m.\u001b[0m\u001b[0mvalue\u001b[0m \u001b[0;34m=\u001b[0m \u001b[0mvalue\u001b[0m\u001b[0;34m\u001b[0m\u001b[0m\n\u001b[0m\u001b[1;32m    192\u001b[0m \u001b[0;34m\u001b[0m\u001b[0m\n\u001b[1;32m    193\u001b[0m         \u001b[0;32mif\u001b[0m \u001b[0mcomment\u001b[0m \u001b[0;32mis\u001b[0m \u001b[0;32mnot\u001b[0m \u001b[0;32mNone\u001b[0m\u001b[0;34m:\u001b[0m\u001b[0;34m\u001b[0m\u001b[0m\n",
      "\u001b[0;32m/anaconda3/lib/python3.6/site-packages/astropy/io/fits/card.py\u001b[0m in \u001b[0;36mvalue\u001b[0;34m(self, value)\u001b[0m\n\u001b[1;32m    309\u001b[0m                            \u001b[0mnp\u001b[0m\u001b[0;34m.\u001b[0m\u001b[0mfloating\u001b[0m\u001b[0;34m,\u001b[0m \u001b[0mnp\u001b[0m\u001b[0;34m.\u001b[0m\u001b[0minteger\u001b[0m\u001b[0;34m,\u001b[0m \u001b[0mnp\u001b[0m\u001b[0;34m.\u001b[0m\u001b[0mcomplexfloating\u001b[0m\u001b[0;34m,\u001b[0m\u001b[0;34m\u001b[0m\u001b[0m\n\u001b[1;32m    310\u001b[0m                            np.bool_)):\n\u001b[0;32m--> 311\u001b[0;31m             \u001b[0;32mraise\u001b[0m \u001b[0mValueError\u001b[0m\u001b[0;34m(\u001b[0m\u001b[0;34m'Illegal value: {!r}.'\u001b[0m\u001b[0;34m.\u001b[0m\u001b[0mformat\u001b[0m\u001b[0;34m(\u001b[0m\u001b[0mvalue\u001b[0m\u001b[0;34m)\u001b[0m\u001b[0;34m)\u001b[0m\u001b[0;34m\u001b[0m\u001b[0m\n\u001b[0m\u001b[1;32m    312\u001b[0m \u001b[0;34m\u001b[0m\u001b[0m\n\u001b[1;32m    313\u001b[0m         \u001b[0;32mif\u001b[0m \u001b[0misinstance\u001b[0m\u001b[0;34m(\u001b[0m\u001b[0mvalue\u001b[0m\u001b[0;34m,\u001b[0m \u001b[0mfloat\u001b[0m\u001b[0;34m)\u001b[0m \u001b[0;32mand\u001b[0m \u001b[0;34m(\u001b[0m\u001b[0mnp\u001b[0m\u001b[0;34m.\u001b[0m\u001b[0misnan\u001b[0m\u001b[0;34m(\u001b[0m\u001b[0mvalue\u001b[0m\u001b[0;34m)\u001b[0m \u001b[0;32mor\u001b[0m \u001b[0mnp\u001b[0m\u001b[0;34m.\u001b[0m\u001b[0misinf\u001b[0m\u001b[0;34m(\u001b[0m\u001b[0mvalue\u001b[0m\u001b[0;34m)\u001b[0m\u001b[0;34m)\u001b[0m\u001b[0;34m:\u001b[0m\u001b[0;34m\u001b[0m\u001b[0m\n",
      "\u001b[0;31mValueError\u001b[0m: Illegal value: <Quantity 2>."
     ]
    },
    {
     "data": {
      "text/plain": [
       "<Figure size 1008x576 with 0 Axes>"
      ]
     },
     "metadata": {},
     "output_type": "display_data"
    }
   ],
   "source": [
    "psf_fluxes = []\n",
    "times = []\n",
    "plt.figure(figsize=(14,8))\n",
    "for i in range(len(stars)):\n",
    "    data = eleanor.TargetData(stars[i], do_psf=True)\n",
    "    q = data.quality == 0\n",
    "    times.append(data.time[q])\n",
    "    psf_fluxes.append(data.psf_flux[q])\n",
    "    data.save()"
   ]
  },
  {
   "cell_type": "code",
   "execution_count": null,
   "metadata": {},
   "outputs": [],
   "source": [
    "times  = np.array(times)\n",
    "fluxes = np.array(fluxes)\n",
    "psf_fluxes = np.array(psf_fluxes)\n",
    "\n",
    "plt.figure(figsize=(14,8))\n",
    "plt.ylim(0.5,1.25)\n",
    "for i in range(len(times)):\n",
    "    plt.plot(times[i], psf_fluxes[i]/np.nanmedian(psf_fluxes[i]), 'k.')"
   ]
  },
  {
   "cell_type": "code",
   "execution_count": null,
   "metadata": {},
   "outputs": [],
   "source": [
    "t, psf = np.array([]), np.array([])\n",
    "\n",
    "for i in range(len(times)):\n",
    "    t = np.append(t, times[i])\n",
    "    psf = np.append(psf, psf_fluxes[i]/np.nanmedian(psf_fluxes[i]))"
   ]
  },
  {
   "cell_type": "code",
   "execution_count": null,
   "metadata": {},
   "outputs": [],
   "source": [
    "durations = np.linspace(0.05, 0.2, 150)\n",
    "model     = BLS(t-1335, psf, np.std(psf))\n",
    "results   = model.autopower(durations, frequency_factor=5.0,\n",
    "                            maximum_period=8)"
   ]
  },
  {
   "cell_type": "code",
   "execution_count": null,
   "metadata": {},
   "outputs": [],
   "source": []
  },
  {
   "cell_type": "code",
   "execution_count": null,
   "metadata": {},
   "outputs": [],
   "source": []
  }
 ],
 "metadata": {
  "kernelspec": {
   "display_name": "Python 3",
   "language": "python",
   "name": "python3"
  },
  "language_info": {
   "codemirror_mode": {
    "name": "ipython",
    "version": 3
   },
   "file_extension": ".py",
   "mimetype": "text/x-python",
   "name": "python",
   "nbconvert_exporter": "python",
   "pygments_lexer": "ipython3",
   "version": "3.6.5"
  }
 },
 "nbformat": 4,
 "nbformat_minor": 2
}
